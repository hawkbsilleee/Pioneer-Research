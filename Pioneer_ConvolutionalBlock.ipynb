{
  "nbformat": 4,
  "nbformat_minor": 0,
  "metadata": {
    "colab": {
      "provenance": []
    },
    "kernelspec": {
      "name": "python3",
      "display_name": "Python 3"
    },
    "language_info": {
      "name": "python"
    }
  },
  "cells": [
    {
      "cell_type": "code",
      "execution_count": null,
      "metadata": {
        "id": "Z1HConDY_r9i"
      },
      "outputs": [],
      "source": [
        "from numpy import asarray\n",
        "from keras.models import Sequential\n",
        "from keras.layers import Conv1D\n",
        "from keras.layers import Conv2D\n",
        "from keras.layers import MaxPooling2D\n",
        "import numpy as np\n"
      ]
    },
    {
      "cell_type": "code",
      "source": [
        "# Convolutional Layer \n",
        "\n",
        "data = [[0, 0, 0, 1, 1, 0, 0, 0],\n",
        "        [0, 0, 0, 1, 1, 0, 0, 0],\n",
        "        [0, 0, 0, 1, 1, 0, 0, 0],\n",
        "        [0, 0, 0, 1, 1, 0, 0, 0],\n",
        "        [0, 0, 0, 1, 1, 0, 0, 0],\n",
        "        [0, 0, 0, 1, 1, 0, 0, 0],\n",
        "        [0, 0, 0, 1, 1, 0, 0, 0],\n",
        "        [0, 0, 0, 1, 1, 0, 0, 0]]\n",
        "\n",
        "data = asarray(data)\n",
        "data = data.reshape(1, 8, 8, 1)\n",
        "\n",
        "# create model\n",
        "model = Sequential()\n",
        "model.add(Conv2D(filters=3, kernel_size=(3,3), input_shape=(8, 8, 1)))\n",
        "model.add(MaxPooling2D())\n",
        "model.summary()\n",
        "\n",
        "# define a vertical line detector\n",
        "# detector_Vertical = [[[[0]],[[1]],[[0]]],\n",
        "#                     [[[0]],[[1]],[[0]]],\n",
        "#                     [[[0]],[[1]],[[0]]]]\n",
        "\n",
        "# detector_Horizontal = [[[[0]],[[0]],[[0]]],\n",
        "#                       [[[1]],[[1]],[[1]]],\n",
        "#                       [[[0]],[[0]],[[0]]]]\n",
        "\n",
        "# detector_Diagonal = [[[[1]],[[0]],[[0]]],\n",
        "#                     [[[0]],[[1]],[[0]]],\n",
        "#                     [[[0]],[[0]],[[1]]]]\n",
        "\n",
        "# weights = [asarray(detector_Vertical), asarray([0.0])]\n",
        "\n",
        "# # store the weights in the model\n",
        "# model.set_weights(weights)\n",
        "# # confirm they were stored\n",
        "# print(model.get_weights())\n",
        "\n",
        "# # apply filter to input data\n",
        "# yhat = model.predict(data)\n",
        "# for r in range(yhat.shape[1]):\n",
        "# \t# print each column in the row\n",
        "# \tprint([yhat[0,r,c,0] for c in range(yhat.shape[2])])"
      ],
      "metadata": {
        "colab": {
          "base_uri": "https://localhost:8080/"
        },
        "id": "vXgzsqtm_z4G",
        "outputId": "76d02c1f-c717-4c22-bb03-9bf6d06db57e"
      },
      "execution_count": null,
      "outputs": [
        {
          "output_type": "stream",
          "name": "stdout",
          "text": [
            "Model: \"sequential_1\"\n",
            "_________________________________________________________________\n",
            " Layer (type)                Output Shape              Param #   \n",
            "=================================================================\n",
            " conv2d_1 (Conv2D)           (None, 6, 6, 3)           30        \n",
            "                                                                 \n",
            " max_pooling2d_1 (MaxPooling  (None, 3, 3, 3)          0         \n",
            " 2D)                                                             \n",
            "                                                                 \n",
            "=================================================================\n",
            "Total params: 30\n",
            "Trainable params: 30\n",
            "Non-trainable params: 0\n",
            "_________________________________________________________________\n"
          ]
        }
      ]
    },
    {
      "cell_type": "code",
      "source": [
        "# define a vertical line detector\n",
        "detector_Vertical = [[[[0]],[[1]],[[0]]],\n",
        "                    [[[0]],[[1]],[[0]]],\n",
        "                    [[[0]],[[1]],[[0]]]]\n",
        "\n",
        "\n",
        "\n",
        "detector_Horizontal = [[[[0]],[[0]],[[0]]],\n",
        "                      [[[1]],[[1]],[[1]]],\n",
        "                      [[[0]],[[0]],[[0]]]]\n",
        "\n",
        "detector_Diagonal = [[[[1]],[[0]],[[0]]],\n",
        "                    [[[0]],[[1]],[[0]]],\n",
        "                    [[[0]],[[0]],[[1]]]]\n",
        "\n",
        "weights = [asarray(detector_Vertical), asarray([0.0])]\n",
        "\n",
        "# store the weights in the model\n",
        "model.set_weights(weights)\n",
        "# confirm they were stored\n",
        "print(model.get_weights())\n",
        "\n",
        "# apply filter to input data\n",
        "yhat = model.predict(data)\n",
        "for r in range(yhat.shape[1]):\n",
        "\t# print each column in the row\n",
        "\tprint([yhat[0,r,c,0] for c in range(yhat.shape[2])])"
      ],
      "metadata": {
        "colab": {
          "base_uri": "https://localhost:8080/",
          "height": 365
        },
        "id": "qIz3jxq8FXXE",
        "outputId": "6fcd8483-e222-40cc-9633-65e712b7df35"
      },
      "execution_count": null,
      "outputs": [
        {
          "output_type": "error",
          "ename": "ValueError",
          "evalue": "ignored",
          "traceback": [
            "\u001b[0;31m---------------------------------------------------------------------------\u001b[0m",
            "\u001b[0;31mValueError\u001b[0m                                Traceback (most recent call last)",
            "\u001b[0;32m<ipython-input-14-fbc9e6289fb0>\u001b[0m in \u001b[0;36m<module>\u001b[0;34m\u001b[0m\n\u001b[1;32m     17\u001b[0m \u001b[0;34m\u001b[0m\u001b[0m\n\u001b[1;32m     18\u001b[0m \u001b[0;31m# store the weights in the model\u001b[0m\u001b[0;34m\u001b[0m\u001b[0;34m\u001b[0m\u001b[0;34m\u001b[0m\u001b[0m\n\u001b[0;32m---> 19\u001b[0;31m \u001b[0mmodel\u001b[0m\u001b[0;34m.\u001b[0m\u001b[0mset_weights\u001b[0m\u001b[0;34m(\u001b[0m\u001b[0mweights\u001b[0m\u001b[0;34m)\u001b[0m\u001b[0;34m\u001b[0m\u001b[0;34m\u001b[0m\u001b[0m\n\u001b[0m\u001b[1;32m     20\u001b[0m \u001b[0;31m# confirm they were stored\u001b[0m\u001b[0;34m\u001b[0m\u001b[0;34m\u001b[0m\u001b[0;34m\u001b[0m\u001b[0m\n\u001b[1;32m     21\u001b[0m \u001b[0mprint\u001b[0m\u001b[0;34m(\u001b[0m\u001b[0mmodel\u001b[0m\u001b[0;34m.\u001b[0m\u001b[0mget_weights\u001b[0m\u001b[0;34m(\u001b[0m\u001b[0;34m)\u001b[0m\u001b[0;34m)\u001b[0m\u001b[0;34m\u001b[0m\u001b[0;34m\u001b[0m\u001b[0m\n",
            "\u001b[0;32m/usr/local/lib/python3.7/dist-packages/keras/engine/base_layer.py\u001b[0m in \u001b[0;36mset_weights\u001b[0;34m(self, weights)\u001b[0m\n\u001b[1;32m   1863\u001b[0m         \u001b[0;32mif\u001b[0m \u001b[0;32mnot\u001b[0m \u001b[0mref_shape\u001b[0m\u001b[0;34m.\u001b[0m\u001b[0mis_compatible_with\u001b[0m\u001b[0;34m(\u001b[0m\u001b[0mweight_shape\u001b[0m\u001b[0;34m)\u001b[0m\u001b[0;34m:\u001b[0m\u001b[0;34m\u001b[0m\u001b[0;34m\u001b[0m\u001b[0m\n\u001b[1;32m   1864\u001b[0m           raise ValueError(\n\u001b[0;32m-> 1865\u001b[0;31m               \u001b[0;34mf'Layer {self.name} weight shape {ref_shape} '\u001b[0m\u001b[0;34m\u001b[0m\u001b[0;34m\u001b[0m\u001b[0m\n\u001b[0m\u001b[1;32m   1866\u001b[0m               \u001b[0;34m'is not compatible with provided weight '\u001b[0m\u001b[0;34m\u001b[0m\u001b[0;34m\u001b[0m\u001b[0m\n\u001b[1;32m   1867\u001b[0m               f'shape {weight_shape}.')\n",
            "\u001b[0;31mValueError\u001b[0m: Layer sequential_1 weight shape (3, 3, 1, 3) is not compatible with provided weight shape (3, 3, 1, 1)."
          ]
        }
      ]
    },
    {
      "cell_type": "code",
      "source": [
        "conv_output = np.array(yhat)\n",
        "conv_output "
      ],
      "metadata": {
        "colab": {
          "base_uri": "https://localhost:8080/"
        },
        "id": "-MuhK9_mC8zh",
        "outputId": "6d2437d7-0589-4cba-b0aa-b5098a28073e"
      },
      "execution_count": null,
      "outputs": [
        {
          "output_type": "execute_result",
          "data": {
            "text/plain": [
              "array([[[[0.],\n",
              "         [0.],\n",
              "         [3.],\n",
              "         [3.],\n",
              "         [0.],\n",
              "         [0.]],\n",
              "\n",
              "        [[0.],\n",
              "         [0.],\n",
              "         [3.],\n",
              "         [3.],\n",
              "         [0.],\n",
              "         [0.]],\n",
              "\n",
              "        [[0.],\n",
              "         [0.],\n",
              "         [3.],\n",
              "         [3.],\n",
              "         [0.],\n",
              "         [0.]],\n",
              "\n",
              "        [[0.],\n",
              "         [0.],\n",
              "         [3.],\n",
              "         [3.],\n",
              "         [0.],\n",
              "         [0.]],\n",
              "\n",
              "        [[0.],\n",
              "         [0.],\n",
              "         [3.],\n",
              "         [3.],\n",
              "         [0.],\n",
              "         [0.]],\n",
              "\n",
              "        [[0.],\n",
              "         [0.],\n",
              "         [3.],\n",
              "         [3.],\n",
              "         [0.],\n",
              "         [0.]]]], dtype=float32)"
            ]
          },
          "metadata": {},
          "execution_count": 24
        }
      ]
    },
    {
      "cell_type": "code",
      "source": [
        "conv_output = np.array([\n",
        "    [0.0, 0.0, 3.0, 3.0, 0.0, 0.0],\n",
        "[0.0, 0.0, 3.0, 3.0, 0.0, 0.0],\n",
        "[0.0, 0.0, 3.0, 3.0, 0.0, 0.0],\n",
        "[0.0, 0.0, 3.0, 3.0, 0.0, 0.0],\n",
        "[0.0, 0.0, 3.0, 3.0, 0.0, 0.0],\n",
        "[0.0, 0.0, 3.0, 3.0, 0.0, 0.0],\n",
        "])"
      ],
      "metadata": {
        "id": "XFPw5zmPC3IR"
      },
      "execution_count": null,
      "outputs": []
    },
    {
      "cell_type": "code",
      "source": [
        "def get_pools(img: np.array, pool_size: int, stride: int) -> np.array:\n",
        "    # To store individual pools\n",
        "    pools = []\n",
        "    \n",
        "    # Iterate over all row blocks (single block has `stride` rows)\n",
        "    for i in np.arange(img.shape[0], step=stride):\n",
        "        # Iterate over all column blocks (single block has `stride` columns)\n",
        "        for j in np.arange(img.shape[0], step=stride):\n",
        "            \n",
        "            # Extract the current pool\n",
        "            mat = img[i:i+pool_size, j:j+pool_size]\n",
        "            \n",
        "            # Make sure it's rectangular - has the shape identical to the pool size\n",
        "            if mat.shape == (pool_size, pool_size):\n",
        "                # Append to the list of pools\n",
        "                pools.append(mat)\n",
        "                \n",
        "    # Return all pools as a Numpy array\n",
        "    return np.array(pools)"
      ],
      "metadata": {
        "id": "n3LQqTsRCrWu"
      },
      "execution_count": null,
      "outputs": []
    },
    {
      "cell_type": "code",
      "source": [
        "test_pools = get_pools(img=conv_output, pool_size=2, stride=2)\n",
        "test_pools"
      ],
      "metadata": {
        "colab": {
          "base_uri": "https://localhost:8080/"
        },
        "id": "MlJ_t81YCsKu",
        "outputId": "e3ea1a35-c8b7-4160-b7eb-672b8bfb67ce"
      },
      "execution_count": null,
      "outputs": [
        {
          "output_type": "execute_result",
          "data": {
            "text/plain": [
              "array([[[0., 0.],\n",
              "        [0., 0.]],\n",
              "\n",
              "       [[3., 3.],\n",
              "        [3., 3.]],\n",
              "\n",
              "       [[0., 0.],\n",
              "        [0., 0.]],\n",
              "\n",
              "       [[0., 0.],\n",
              "        [0., 0.]],\n",
              "\n",
              "       [[3., 3.],\n",
              "        [3., 3.]],\n",
              "\n",
              "       [[0., 0.],\n",
              "        [0., 0.]],\n",
              "\n",
              "       [[0., 0.],\n",
              "        [0., 0.]],\n",
              "\n",
              "       [[3., 3.],\n",
              "        [3., 3.]],\n",
              "\n",
              "       [[0., 0.],\n",
              "        [0., 0.]]])"
            ]
          },
          "metadata": {},
          "execution_count": 28
        }
      ]
    },
    {
      "cell_type": "code",
      "source": [
        "def max_pooling(pools: np.array) -> np.array:\n",
        "    # Total number of pools\n",
        "    num_pools = pools.shape[0]\n",
        "    # Shape of the matrix after pooling - Square root of the number of pools\n",
        "    # Cast it to int, as Numpy will return it as float\n",
        "    # For example -> np.sqrt(16) = 4.0 -> int(4.0) = 4\n",
        "    tgt_shape = (int(np.sqrt(num_pools)), int(np.sqrt(num_pools)))\n",
        "    # To store the max values\n",
        "    pooled = []\n",
        "    \n",
        "    # Iterate over all pools\n",
        "    for pool in pools:\n",
        "        # Append the max value only\n",
        "        pooled.append(np.max(pool))\n",
        "        \n",
        "    # Reshape to target shape\n",
        "    return np.array(pooled).reshape(tgt_shape)"
      ],
      "metadata": {
        "id": "ibLWkVh9DUxF"
      },
      "execution_count": null,
      "outputs": []
    },
    {
      "cell_type": "code",
      "source": [
        "downsampled_featuremap = max_pooling(pools=test_pools)"
      ],
      "metadata": {
        "id": "VfHCKTwvDXKA"
      },
      "execution_count": null,
      "outputs": []
    },
    {
      "cell_type": "code",
      "source": [
        "downsampled_featuremap.flatten()"
      ],
      "metadata": {
        "colab": {
          "base_uri": "https://localhost:8080/"
        },
        "id": "L7NfUIeyDbBr",
        "outputId": "ab2b7929-5500-4b17-b17a-ac986b1fa829"
      },
      "execution_count": null,
      "outputs": [
        {
          "output_type": "execute_result",
          "data": {
            "text/plain": [
              "array([0., 3., 0., 0., 3., 0., 0., 3., 0.])"
            ]
          },
          "metadata": {},
          "execution_count": 31
        }
      ]
    }
  ]
}